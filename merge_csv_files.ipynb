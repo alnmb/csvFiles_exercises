{
 "cells": [
  {
   "cell_type": "markdown",
   "metadata": {},
   "source": [
    "#   Merging csv files"
   ]
  },
  {
   "cell_type": "code",
   "execution_count": 1,
   "metadata": {},
   "outputs": [],
   "source": [
    "import csv"
   ]
  },
  {
   "cell_type": "code",
   "execution_count": 2,
   "metadata": {},
   "outputs": [],
   "source": [
    "def merge_files(file1,file2, common_column, output_path):\n",
    "    #read first file\n",
    "    with open(file1, 'r') as file1:\n",
    "        reader1 = csv.DictReader(file1)\n",
    "        data1 = list(reader1)\n",
    "\n",
    "    #read second file\n",
    "    with open(file2, 'r') as file2:\n",
    "        reader2 = csv.DictReader(file2)\n",
    "        data2 = list(reader2)\n",
    "    \n",
    "    merged_data = []\n",
    "    for row1 in data1:\n",
    "        for row2 in data2:\n",
    "            if row1[common_column] == row2[common_column]:\n",
    "                merged_row = {**row1,**row2}\n",
    "                merged_data.append(merged_row)\n",
    "\n",
    "    #get headers\n",
    "    header = data1[0].keys() | data2[0].keys()\n",
    "    # save output into a new file\n",
    "    with open(output_path,'w', newline='') as mergedFile:\n",
    "        writer = csv.DictWriter(mergedFile,fieldnames=header)\n",
    "        writer.writeheader()\n",
    "        writer.writerows(merged_data)"
   ]
  },
  {
   "cell_type": "code",
   "execution_count": 3,
   "metadata": {},
   "outputs": [],
   "source": [
    "# Specify the paths and column for merging\n",
    "file1_path = 'samples\\merge_sample_1.csv'\n",
    "file2_path = 'samples\\merge_sample_2.csv'\n",
    "common_column = 'Name'  # Replace with the actual common column name\n",
    "output_path = 'samples\\merged_file.csv'"
   ]
  },
  {
   "cell_type": "code",
   "execution_count": 4,
   "metadata": {},
   "outputs": [],
   "source": [
    "merge_files(file1_path,file2_path,common_column,output_path)"
   ]
  },
  {
   "cell_type": "code",
   "execution_count": null,
   "metadata": {},
   "outputs": [],
   "source": []
  }
 ],
 "metadata": {
  "kernelspec": {
   "display_name": "Python 3",
   "language": "python",
   "name": "python3"
  },
  "language_info": {
   "codemirror_mode": {
    "name": "ipython",
    "version": 3
   },
   "file_extension": ".py",
   "mimetype": "text/x-python",
   "name": "python",
   "nbconvert_exporter": "python",
   "pygments_lexer": "ipython3",
   "version": "3.11.6"
  }
 },
 "nbformat": 4,
 "nbformat_minor": 2
}
